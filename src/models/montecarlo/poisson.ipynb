{
 "cells": [
  {
   "cell_type": "code",
   "execution_count": 1,
   "metadata": {},
   "outputs": [],
   "source": [
    "import gc   \n",
    "import numpy as np\n",
    "import pandas as pd\n",
    "from matplotlib import pyplot as plt\n",
    "plt.style.use('seaborn-darkgrid')\n",
    "import gc\n",
    "gc.collect()\n",
    "import pymc3 as pm"
   ]
  },
  {
   "cell_type": "code",
   "execution_count": 2,
   "metadata": {},
   "outputs": [],
   "source": [
    "train = pd.read_csv(\"../../../data/processed/modelling_data/weekly_SWEurope_train.csv\")\n",
    "train = train.dropna()\n",
    "test = pd.read_csv(\"../../../data/processed/modelling_data/weekly_SWEurope_test.csv\")\n",
    "test = test.dropna()"
   ]
  },
  {
   "cell_type": "code",
   "execution_count": 4,
   "metadata": {},
   "outputs": [
    {
     "data": {
      "text/html": [
       "<div>\n",
       "<style scoped>\n",
       "    .dataframe tbody tr th:only-of-type {\n",
       "        vertical-align: middle;\n",
       "    }\n",
       "\n",
       "    .dataframe tbody tr th {\n",
       "        vertical-align: top;\n",
       "    }\n",
       "\n",
       "    .dataframe thead th {\n",
       "        text-align: right;\n",
       "    }\n",
       "</style>\n",
       "<table border=\"1\" class=\"dataframe\">\n",
       "  <thead>\n",
       "    <tr style=\"text-align: right;\">\n",
       "      <th></th>\n",
       "      <th>year</th>\n",
       "      <th>week</th>\n",
       "      <th>CapitalLatitude</th>\n",
       "      <th>CapitalLongitude</th>\n",
       "      <th>surface_height</th>\n",
       "      <th>temperature</th>\n",
       "      <th>evaporation</th>\n",
       "      <th>humidity</th>\n",
       "      <th>Pressure_surface</th>\n",
       "      <th>num_influenza</th>\n",
       "    </tr>\n",
       "  </thead>\n",
       "  <tbody>\n",
       "    <tr>\n",
       "      <th>0</th>\n",
       "      <td>2010</td>\n",
       "      <td>10</td>\n",
       "      <td>48.2</td>\n",
       "      <td>16.366667</td>\n",
       "      <td>975.212173</td>\n",
       "      <td>267.714223</td>\n",
       "      <td>81.741210</td>\n",
       "      <td>0.002634</td>\n",
       "      <td>90439.448044</td>\n",
       "      <td>0</td>\n",
       "    </tr>\n",
       "    <tr>\n",
       "      <th>1</th>\n",
       "      <td>2010</td>\n",
       "      <td>11</td>\n",
       "      <td>48.2</td>\n",
       "      <td>16.366667</td>\n",
       "      <td>975.212173</td>\n",
       "      <td>275.623540</td>\n",
       "      <td>104.842330</td>\n",
       "      <td>0.004567</td>\n",
       "      <td>91134.762557</td>\n",
       "      <td>0</td>\n",
       "    </tr>\n",
       "    <tr>\n",
       "      <th>2</th>\n",
       "      <td>2010</td>\n",
       "      <td>12</td>\n",
       "      <td>48.2</td>\n",
       "      <td>16.366667</td>\n",
       "      <td>975.212173</td>\n",
       "      <td>278.335869</td>\n",
       "      <td>134.413939</td>\n",
       "      <td>0.005434</td>\n",
       "      <td>90550.340540</td>\n",
       "      <td>0</td>\n",
       "    </tr>\n",
       "    <tr>\n",
       "      <th>3</th>\n",
       "      <td>2010</td>\n",
       "      <td>13</td>\n",
       "      <td>48.2</td>\n",
       "      <td>16.366667</td>\n",
       "      <td>975.212173</td>\n",
       "      <td>276.333135</td>\n",
       "      <td>146.558956</td>\n",
       "      <td>0.004698</td>\n",
       "      <td>90102.048596</td>\n",
       "      <td>0</td>\n",
       "    </tr>\n",
       "    <tr>\n",
       "      <th>4</th>\n",
       "      <td>2010</td>\n",
       "      <td>14</td>\n",
       "      <td>48.2</td>\n",
       "      <td>16.366667</td>\n",
       "      <td>975.212173</td>\n",
       "      <td>276.253356</td>\n",
       "      <td>153.573541</td>\n",
       "      <td>0.004594</td>\n",
       "      <td>91120.660342</td>\n",
       "      <td>0</td>\n",
       "    </tr>\n",
       "  </tbody>\n",
       "</table>\n",
       "</div>"
      ],
      "text/plain": [
       "   year  week  CapitalLatitude  CapitalLongitude  surface_height  temperature  \\\n",
       "0  2010    10             48.2         16.366667      975.212173   267.714223   \n",
       "1  2010    11             48.2         16.366667      975.212173   275.623540   \n",
       "2  2010    12             48.2         16.366667      975.212173   278.335869   \n",
       "3  2010    13             48.2         16.366667      975.212173   276.333135   \n",
       "4  2010    14             48.2         16.366667      975.212173   276.253356   \n",
       "\n",
       "   evaporation  humidity  Pressure_surface  num_influenza  \n",
       "0    81.741210  0.002634      90439.448044              0  \n",
       "1   104.842330  0.004567      91134.762557              0  \n",
       "2   134.413939  0.005434      90550.340540              0  \n",
       "3   146.558956  0.004698      90102.048596              0  \n",
       "4   153.573541  0.004594      91120.660342              0  "
      ]
     },
     "execution_count": 4,
     "metadata": {},
     "output_type": "execute_result"
    }
   ],
   "source": [
    "train.head()"
   ]
  },
  {
   "cell_type": "code",
   "execution_count": 5,
   "metadata": {},
   "outputs": [],
   "source": [
    "fml = \"num_influenza ~ year:(temperature + CapitalLatitude\\\n",
    "                            + CapitalLongitude) + week\""
   ]
  },
  {
   "cell_type": "code",
   "execution_count": 6,
   "metadata": {},
   "outputs": [],
   "source": [
    "with pm.Model() as model:\n",
    "  \n",
    "    b0 = pm.Normal('b0_intercept', mu=0, sd=10)\n",
    "    b1 = pm.Normal('b1', mu=0, sd=10)\n",
    "    b2 = pm.Normal('b2', mu=0, sd=10)\n",
    "    b3 = pm.Normal('b3', mu=0, sd=10)\n",
    "    b4 = pm.Normal('b4', mu=0, sd=10)\n",
    "    b5 = pm.Normal('b5', mu=0, sd=10)\n",
    "    \n",
    "    theta = (b0 + \n",
    "            b1 * train[\"year\"]+\n",
    "            b2 * train[\"week\"]+\n",
    "            b3 * train[\"temperature\"]+\n",
    "            b4 * train[\"CapitalLatitude\"]+\n",
    "            b5 * train[\"CapitalLongitude\"])\n",
    "    \n",
    "    y = pm.Poisson('y', mu=np.exp(theta), observed=train['num_influenza'].values)\n"
   ]
  },
  {
   "cell_type": "code",
   "execution_count": 7,
   "metadata": {},
   "outputs": [
    {
     "name": "stderr",
     "output_type": "stream",
     "text": [
      "Auto-assigning NUTS sampler...\n",
      "Initializing NUTS using jitter+adapt_diag...\n",
      "Multiprocess sampling (4 chains in 4 jobs)\n",
      "NUTS: [b5, b4, b3, b2, b1, b0_intercept]\n",
      "Sampling 4 chains:   3%|▎         | 278/8000 [00:01<00:47, 161.04draws/s]/Users/harrisonzhu/.local/share/virtualenvs/Bayesian-Extremes-zeTIm6w-/lib/python3.6/site-packages/numpy/core/fromnumeric.py:3118: RuntimeWarning: Mean of empty slice.\n",
      "  out=out, **kwargs)\n",
      "INFO (theano.gof.compilelock): Waiting for existing lock by unknown process (I am process '6413')\n",
      "INFO (theano.gof.compilelock): To manually release the lock, delete /Users/harrisonzhu/.theano/compiledir_Darwin-18.2.0-x86_64-i386-64bit-i386-3.6.6-64/lock_dir\n",
      "/Users/harrisonzhu/.local/share/virtualenvs/Bayesian-Extremes-zeTIm6w-/lib/python3.6/site-packages/numpy/core/fromnumeric.py:3118: RuntimeWarning: Mean of empty slice.\n",
      "  out=out, **kwargs)\n",
      "Sampling 4 chains:   4%|▎         | 297/8000 [00:07<03:12, 39.92draws/s] \n",
      "Bad initial energy, check any log probabilities that are inf or -inf, nan or very small:\n",
      "Series([], )\n"
     ]
    },
    {
     "ename": "ParallelSamplingError",
     "evalue": "Bad initial energy",
     "output_type": "error",
     "traceback": [
      "\u001b[0;31m---------------------------------------------------------------------------\u001b[0m",
      "\u001b[0;31mRemoteTraceback\u001b[0m                           Traceback (most recent call last)",
      "\u001b[0;31mRemoteTraceback\u001b[0m: \n\"\"\"\nTraceback (most recent call last):\n  File \"/Users/harrisonzhu/.local/share/virtualenvs/Bayesian-Extremes-zeTIm6w-/lib/python3.6/site-packages/pymc3/parallel_sampling.py\", line 123, in _start_loop\n    point, stats = self._compute_point()\n  File \"/Users/harrisonzhu/.local/share/virtualenvs/Bayesian-Extremes-zeTIm6w-/lib/python3.6/site-packages/pymc3/parallel_sampling.py\", line 154, in _compute_point\n    point, stats = self._step_method.step(self._point)\n  File \"/Users/harrisonzhu/.local/share/virtualenvs/Bayesian-Extremes-zeTIm6w-/lib/python3.6/site-packages/pymc3/step_methods/arraystep.py\", line 247, in step\n    apoint, stats = self.astep(array)\n  File \"/Users/harrisonzhu/.local/share/virtualenvs/Bayesian-Extremes-zeTIm6w-/lib/python3.6/site-packages/pymc3/step_methods/hmc/base_hmc.py\", line 149, in astep\n    raise SamplingError(\"Bad initial energy\")\npymc3.exceptions.SamplingError: Bad initial energy\n\"\"\"",
      "\nThe above exception was the direct cause of the following exception:\n",
      "\u001b[0;31mSamplingError\u001b[0m                             Traceback (most recent call last)",
      "\u001b[0;31mSamplingError\u001b[0m: Bad initial energy",
      "\nThe above exception was the direct cause of the following exception:\n",
      "\u001b[0;31mParallelSamplingError\u001b[0m                     Traceback (most recent call last)",
      "\u001b[0;32m<ipython-input-7-1e9275a86e3f>\u001b[0m in \u001b[0;36m<module>\u001b[0;34m\u001b[0m\n\u001b[1;32m      1\u001b[0m \u001b[0;32mwith\u001b[0m \u001b[0mmodel\u001b[0m\u001b[0;34m:\u001b[0m\u001b[0;34m\u001b[0m\u001b[0m\n\u001b[0;32m----> 2\u001b[0;31m     \u001b[0mpoisson_result\u001b[0m \u001b[0;34m=\u001b[0m \u001b[0mpm\u001b[0m\u001b[0;34m.\u001b[0m\u001b[0msample\u001b[0m\u001b[0;34m(\u001b[0m\u001b[0;36m1000\u001b[0m\u001b[0;34m,\u001b[0m \u001b[0mtune\u001b[0m\u001b[0;34m=\u001b[0m\u001b[0;36m1000\u001b[0m\u001b[0;34m,\u001b[0m \u001b[0mcores\u001b[0m\u001b[0;34m=\u001b[0m\u001b[0;36m4\u001b[0m\u001b[0;34m)\u001b[0m\u001b[0;34m\u001b[0m\u001b[0m\n\u001b[0m",
      "\u001b[0;32m~/.local/share/virtualenvs/Bayesian-Extremes-zeTIm6w-/lib/python3.6/site-packages/pymc3/sampling.py\u001b[0m in \u001b[0;36msample\u001b[0;34m(draws, step, init, n_init, start, trace, chain_idx, chains, cores, tune, nuts_kwargs, step_kwargs, progressbar, model, random_seed, live_plot, discard_tuned_samples, live_plot_kwargs, compute_convergence_checks, use_mmap, **kwargs)\u001b[0m\n\u001b[1;32m    437\u001b[0m             \u001b[0m_print_step_hierarchy\u001b[0m\u001b[0;34m(\u001b[0m\u001b[0mstep\u001b[0m\u001b[0;34m)\u001b[0m\u001b[0;34m\u001b[0m\u001b[0m\n\u001b[1;32m    438\u001b[0m             \u001b[0;32mtry\u001b[0m\u001b[0;34m:\u001b[0m\u001b[0;34m\u001b[0m\u001b[0m\n\u001b[0;32m--> 439\u001b[0;31m                 \u001b[0mtrace\u001b[0m \u001b[0;34m=\u001b[0m \u001b[0m_mp_sample\u001b[0m\u001b[0;34m(\u001b[0m\u001b[0;34m**\u001b[0m\u001b[0msample_args\u001b[0m\u001b[0;34m)\u001b[0m\u001b[0;34m\u001b[0m\u001b[0m\n\u001b[0m\u001b[1;32m    440\u001b[0m             \u001b[0;32mexcept\u001b[0m \u001b[0mpickle\u001b[0m\u001b[0;34m.\u001b[0m\u001b[0mPickleError\u001b[0m\u001b[0;34m:\u001b[0m\u001b[0;34m\u001b[0m\u001b[0m\n\u001b[1;32m    441\u001b[0m                 \u001b[0m_log\u001b[0m\u001b[0;34m.\u001b[0m\u001b[0mwarning\u001b[0m\u001b[0;34m(\u001b[0m\u001b[0;34m\"Could not pickle model, sampling singlethreaded.\"\u001b[0m\u001b[0;34m)\u001b[0m\u001b[0;34m\u001b[0m\u001b[0m\n",
      "\u001b[0;32m~/.local/share/virtualenvs/Bayesian-Extremes-zeTIm6w-/lib/python3.6/site-packages/pymc3/sampling.py\u001b[0m in \u001b[0;36m_mp_sample\u001b[0;34m(draws, tune, step, chains, cores, chain, random_seed, start, progressbar, trace, model, use_mmap, **kwargs)\u001b[0m\n\u001b[1;32m    988\u001b[0m             \u001b[0;32mtry\u001b[0m\u001b[0;34m:\u001b[0m\u001b[0;34m\u001b[0m\u001b[0m\n\u001b[1;32m    989\u001b[0m                 \u001b[0;32mwith\u001b[0m \u001b[0msampler\u001b[0m\u001b[0;34m:\u001b[0m\u001b[0;34m\u001b[0m\u001b[0m\n\u001b[0;32m--> 990\u001b[0;31m                     \u001b[0;32mfor\u001b[0m \u001b[0mdraw\u001b[0m \u001b[0;32min\u001b[0m \u001b[0msampler\u001b[0m\u001b[0;34m:\u001b[0m\u001b[0;34m\u001b[0m\u001b[0m\n\u001b[0m\u001b[1;32m    991\u001b[0m                         \u001b[0mtrace\u001b[0m \u001b[0;34m=\u001b[0m \u001b[0mtraces\u001b[0m\u001b[0;34m[\u001b[0m\u001b[0mdraw\u001b[0m\u001b[0;34m.\u001b[0m\u001b[0mchain\u001b[0m \u001b[0;34m-\u001b[0m \u001b[0mchain\u001b[0m\u001b[0;34m]\u001b[0m\u001b[0;34m\u001b[0m\u001b[0m\n\u001b[1;32m    992\u001b[0m                         if (trace.supports_sampler_stats\n",
      "\u001b[0;32m~/.local/share/virtualenvs/Bayesian-Extremes-zeTIm6w-/lib/python3.6/site-packages/pymc3/parallel_sampling.py\u001b[0m in \u001b[0;36m__iter__\u001b[0;34m(self)\u001b[0m\n\u001b[1;32m    343\u001b[0m \u001b[0;34m\u001b[0m\u001b[0m\n\u001b[1;32m    344\u001b[0m         \u001b[0;32mwhile\u001b[0m \u001b[0mself\u001b[0m\u001b[0;34m.\u001b[0m\u001b[0m_active\u001b[0m\u001b[0;34m:\u001b[0m\u001b[0;34m\u001b[0m\u001b[0m\n\u001b[0;32m--> 345\u001b[0;31m             \u001b[0mdraw\u001b[0m \u001b[0;34m=\u001b[0m \u001b[0mProcessAdapter\u001b[0m\u001b[0;34m.\u001b[0m\u001b[0mrecv_draw\u001b[0m\u001b[0;34m(\u001b[0m\u001b[0mself\u001b[0m\u001b[0;34m.\u001b[0m\u001b[0m_active\u001b[0m\u001b[0;34m)\u001b[0m\u001b[0;34m\u001b[0m\u001b[0m\n\u001b[0m\u001b[1;32m    346\u001b[0m             \u001b[0mproc\u001b[0m\u001b[0;34m,\u001b[0m \u001b[0mis_last\u001b[0m\u001b[0;34m,\u001b[0m \u001b[0mdraw\u001b[0m\u001b[0;34m,\u001b[0m \u001b[0mtuning\u001b[0m\u001b[0;34m,\u001b[0m \u001b[0mstats\u001b[0m\u001b[0;34m,\u001b[0m \u001b[0mwarns\u001b[0m \u001b[0;34m=\u001b[0m \u001b[0mdraw\u001b[0m\u001b[0;34m\u001b[0m\u001b[0m\n\u001b[1;32m    347\u001b[0m             \u001b[0;32mif\u001b[0m \u001b[0mself\u001b[0m\u001b[0;34m.\u001b[0m\u001b[0m_progress\u001b[0m \u001b[0;32mis\u001b[0m \u001b[0;32mnot\u001b[0m \u001b[0;32mNone\u001b[0m\u001b[0;34m:\u001b[0m\u001b[0;34m\u001b[0m\u001b[0m\n",
      "\u001b[0;32m~/.local/share/virtualenvs/Bayesian-Extremes-zeTIm6w-/lib/python3.6/site-packages/pymc3/parallel_sampling.py\u001b[0m in \u001b[0;36mrecv_draw\u001b[0;34m(processes, timeout)\u001b[0m\n\u001b[1;32m    247\u001b[0m             \u001b[0;32melse\u001b[0m\u001b[0;34m:\u001b[0m\u001b[0;34m\u001b[0m\u001b[0m\n\u001b[1;32m    248\u001b[0m                 \u001b[0merror\u001b[0m \u001b[0;34m=\u001b[0m \u001b[0mRuntimeError\u001b[0m\u001b[0;34m(\u001b[0m\u001b[0;34m\"Chain %s failed.\"\u001b[0m \u001b[0;34m%\u001b[0m \u001b[0mproc\u001b[0m\u001b[0;34m.\u001b[0m\u001b[0mchain\u001b[0m\u001b[0;34m)\u001b[0m\u001b[0;34m\u001b[0m\u001b[0m\n\u001b[0;32m--> 249\u001b[0;31m             \u001b[0msix\u001b[0m\u001b[0;34m.\u001b[0m\u001b[0mraise_from\u001b[0m\u001b[0;34m(\u001b[0m\u001b[0merror\u001b[0m\u001b[0;34m,\u001b[0m \u001b[0mold_error\u001b[0m\u001b[0;34m)\u001b[0m\u001b[0;34m\u001b[0m\u001b[0m\n\u001b[0m\u001b[1;32m    250\u001b[0m         \u001b[0;32melif\u001b[0m \u001b[0mmsg\u001b[0m\u001b[0;34m[\u001b[0m\u001b[0;36m0\u001b[0m\u001b[0;34m]\u001b[0m \u001b[0;34m==\u001b[0m \u001b[0;34m\"writing_done\"\u001b[0m\u001b[0;34m:\u001b[0m\u001b[0;34m\u001b[0m\u001b[0m\n\u001b[1;32m    251\u001b[0m             \u001b[0mproc\u001b[0m\u001b[0;34m.\u001b[0m\u001b[0m_readable\u001b[0m \u001b[0;34m=\u001b[0m \u001b[0;32mTrue\u001b[0m\u001b[0;34m\u001b[0m\u001b[0m\n",
      "\u001b[0;32m~/.local/share/virtualenvs/Bayesian-Extremes-zeTIm6w-/lib/python3.6/site-packages/six.py\u001b[0m in \u001b[0;36mraise_from\u001b[0;34m(value, from_value)\u001b[0m\n",
      "\u001b[0;31mParallelSamplingError\u001b[0m: Bad initial energy"
     ]
    },
    {
     "name": "stderr",
     "output_type": "stream",
     "text": [
      "/Users/harrisonzhu/.local/share/virtualenvs/Bayesian-Extremes-zeTIm6w-/lib/python3.6/site-packages/numpy/core/fromnumeric.py:3118: RuntimeWarning: Mean of empty slice.\n",
      "  out=out, **kwargs)\n"
     ]
    }
   ],
   "source": [
    "with model:\n",
    "    poisson_result = pm.sample(1000, tune=1000, cores=4)"
   ]
  },
  {
   "cell_type": "code",
   "execution_count": null,
   "metadata": {},
   "outputs": [],
   "source": []
  }
 ],
 "metadata": {
  "kernelspec": {
   "display_name": "Bayesian-Extremes",
   "language": "python",
   "name": "bayesian-extremes"
  },
  "language_info": {
   "codemirror_mode": {
    "name": "ipython",
    "version": 3
   },
   "file_extension": ".py",
   "mimetype": "text/x-python",
   "name": "python",
   "nbconvert_exporter": "python",
   "pygments_lexer": "ipython3",
   "version": "3.6.6"
  }
 },
 "nbformat": 4,
 "nbformat_minor": 2
}
